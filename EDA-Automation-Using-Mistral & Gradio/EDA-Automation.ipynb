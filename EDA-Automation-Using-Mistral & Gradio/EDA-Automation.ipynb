{
 "cells": [
  {
   "cell_type": "code",
   "execution_count": 1,
   "id": "7a53fd60-87ea-4e72-a49c-5bb1956e7d2d",
   "metadata": {},
   "outputs": [
    {
     "name": "stdout",
     "output_type": "stream",
     "text": [
      "* Running on local URL:  http://127.0.0.1:7860\n",
      "\n",
      "Could not create share link. Please check your internet connection or our status page: https://status.gradio.app.\n"
     ]
    },
    {
     "data": {
      "text/html": [
       "<div><iframe src=\"http://127.0.0.1:7860/\" width=\"100%\" height=\"500\" allow=\"autoplay; camera; microphone; clipboard-read; clipboard-write;\" frameborder=\"0\" allowfullscreen></iframe></div>"
      ],
      "text/plain": [
       "<IPython.core.display.HTML object>"
      ]
     },
     "metadata": {},
     "output_type": "display_data"
    }
   ],
   "source": [
    "import gradio as gr\n",
    "import pandas as pd\n",
    "import matplotlib.pyplot as plt\n",
    "import seaborn as sns\n",
    "import ollama\n",
    "import os\n",
    "from pathlib import Path\n",
    "\n",
    "# Function to Perform EDA and Generate Visualizations\n",
    "def eda_analysis(file_path):\n",
    "    try:\n",
    "        # Check if file_path is valid\n",
    "        if not file_path or not os.path.exists(file_path):\n",
    "            return \"Error: Please upload a valid CSV file.\", []\n",
    "\n",
    "        # Load the dataset\n",
    "        df = pd.read_csv(file_path)\n",
    "\n",
    "        # Handle missing values\n",
    "        for col in df.select_dtypes(include=['number']).columns:\n",
    "            if df[col].notna().any():  # Ensure there's at least one non-NaN value\n",
    "                df[col].fillna(df[col].median(), inplace=True)\n",
    "            else:\n",
    "                df[col].fillna(0, inplace=True)  # Fallback for all-NaN columns\n",
    "\n",
    "        for col in df.select_dtypes(include=['object']).columns:\n",
    "            if df[col].notna().any():\n",
    "                df[col].fillna(df[col].mode()[0], inplace=True)\n",
    "            else:\n",
    "                df[col].fillna(\"Unknown\", inplace=True)  # Fallback for all-NaN columns\n",
    "\n",
    "        # Data Summary\n",
    "        summary = df.describe(include='all').to_string()\n",
    "\n",
    "        # Missing Values (after filling)\n",
    "        missing_values = df.isnull().sum().to_string()\n",
    "\n",
    "        # Generate AI Insights\n",
    "        insights = generate_ai_insights(summary)\n",
    "\n",
    "        # Generate Data Visualizations\n",
    "        plot_paths = generate_visualizations(df)\n",
    "\n",
    "        return (\n",
    "            f\"\\nData Loaded Successfully!\\n\\nSummary:\\n{summary}\\n\\nMissing Values:\\n{missing_values}\\n\\nAI Insights:\\n{insights}\",\n",
    "            plot_paths\n",
    "        )\n",
    "    except Exception as e:\n",
    "        return f\"Error: An unexpected issue occurred - {str(e)}\", []\n",
    "\n",
    "# AI-Powered Insights using Mistral-7B (Ollama)\n",
    "def generate_ai_insights(df_summary):\n",
    "    try:\n",
    "        prompt = f\"Analyze the dataset summary and provide insights:\\n\\n{df_summary}\"\n",
    "        response = ollama.chat(model=\"mistral\", messages=[{\"role\": \"user\", \"content\": prompt}])\n",
    "        return response['message']['content']\n",
    "    except Exception as e:\n",
    "        return f\"AI Insights unavailable: {str(e)}\"\n",
    "\n",
    "# Function to Generate Data Visualizations\n",
    "def generate_visualizations(df):\n",
    "    plot_paths = []\n",
    "    output_dir = Path(\"plots\")\n",
    "    output_dir.mkdir(exist_ok=True)  # Create a directory for plots\n",
    "\n",
    "    # Histograms for Numeric Columns\n",
    "    for col in df.select_dtypes(include=['number']).columns:\n",
    "        plt.figure(figsize=(6, 4))\n",
    "        sns.histplot(df[col], bins=30, kde=True, color=\"blue\")\n",
    "        plt.title(f\"Distribution of {col}\")\n",
    "        path = output_dir / f\"{col}_distribution.png\"\n",
    "        plt.savefig(path)\n",
    "        plot_paths.append(str(path))\n",
    "        plt.close()\n",
    "\n",
    "    # Correlation Heatmap (only numeric columns)\n",
    "    numeric_df = df.select_dtypes(include=['number'])\n",
    "    if not numeric_df.empty and len(numeric_df.columns) > 1:  # Ensure >1 column for correlation\n",
    "        plt.figure(figsize=(8, 5))\n",
    "        sns.heatmap(numeric_df.corr(), annot=True, cmap='coolwarm', fmt=\".2f\", linewidths=0.5)\n",
    "        plt.title(\"Correlation Heatmap\")\n",
    "        path = output_dir / \"correlation_heatmap.png\"\n",
    "        plt.savefig(path)\n",
    "        plot_paths.append(str(path))\n",
    "        plt.close()\n",
    "\n",
    "    return plot_paths\n",
    "\n",
    "# Gradio Interface\n",
    "demo = gr.Interface(\n",
    "    fn=eda_analysis,\n",
    "    inputs=gr.File(label=\"Upload CSV File\", type=\"filepath\"),\n",
    "    outputs=[gr.Textbox(label=\"EDA Report\"), gr.Gallery(label=\"Data Visualizations\")],\n",
    "    title=\"📊 LLM-Powered Exploratory Data Analysis (EDA)\",\n",
    "    description=\"Upload any dataset CSV file and get automated EDA insights with AI-powered analysis and visualizations.\"\n",
    ")\n",
    "\n",
    "# Launch the Gradio App\n",
    "if __name__ == \"__main__\":\n",
    "    demo.launch(share=True)\n"
   ]
  },
  {
   "cell_type": "code",
   "execution_count": null,
   "id": "2520e5f0-e42d-4dde-854e-1fa66b6b40d4",
   "metadata": {},
   "outputs": [],
   "source": []
  },
  {
   "cell_type": "code",
   "execution_count": null,
   "id": "831e9f77-94d9-4042-92e0-dca0d67965f5",
   "metadata": {},
   "outputs": [],
   "source": []
  }
 ],
 "metadata": {
  "kernelspec": {
   "display_name": "Python [conda env:base] *",
   "language": "python",
   "name": "conda-base-py"
  },
  "language_info": {
   "codemirror_mode": {
    "name": "ipython",
    "version": 3
   },
   "file_extension": ".py",
   "mimetype": "text/x-python",
   "name": "python",
   "nbconvert_exporter": "python",
   "pygments_lexer": "ipython3",
   "version": "3.12.7"
  }
 },
 "nbformat": 4,
 "nbformat_minor": 5
}
